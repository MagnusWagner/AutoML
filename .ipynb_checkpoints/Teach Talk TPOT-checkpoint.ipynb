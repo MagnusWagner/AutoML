{
 "cells": [
  {
   "cell_type": "markdown",
   "id": "347f89ca",
   "metadata": {},
   "source": [
    "### Einfache Installation in der Python-Umgebung"
   ]
  },
  {
   "cell_type": "code",
   "execution_count": 7,
   "id": "3f089f3b",
   "metadata": {},
   "outputs": [],
   "source": [
    "# !pip install tpot"
   ]
  },
  {
   "cell_type": "code",
   "execution_count": 27,
   "id": "bae4018f",
   "metadata": {},
   "outputs": [],
   "source": [
    "from tpot import TPOTClassifier\n",
    "import pandas as pd\n",
    "import numpy as np\n",
    "import os\n",
    "import csv\n",
    "import random\n",
    "from sklearn.model_selection import (train_test_split,StratifiedKFold,KFold,cross_validate)\n",
    "import sys\n",
    "from sklearn.metrics import (accuracy_score,precision_score,recall_score,confusion_matrix)\n",
    "from ConfusionMatrixCalc import precisionPerClass, recallPerClass\n",
    "import pickle\n",
    "from sklearn.pipeline import Pipeline\n",
    "from sklearn.impute import SimpleImputer\n",
    "from sklearn.metrics import make_scorer\n",
    "import matplotlib.pyplot as plt\n",
    "import warnings\n",
    "warnings.filterwarnings('ignore')\n",
    "%matplotlib inline"
   ]
  },
  {
   "cell_type": "markdown",
   "id": "1d0b1936",
   "metadata": {},
   "source": [
    "### Kurze Beschreibung unseres Beispieldatensatzes"
   ]
  },
  {
   "cell_type": "code",
   "execution_count": 29,
   "id": "f9aa35dc",
   "metadata": {},
   "outputs": [
    {
     "data": {
      "image/png": "[encoded data removed]",
      "text/plain": [
       "<Figure size 432x288 with 1 Axes>"
      ]
     },
     "metadata": {
      "needs_background": "light"
     },
     "output_type": "display_data"
    }
   ],
   "source": [
    "df = pd.read_csv(\"datasets/hypothyroid/hypothyroid.csv\")\n",
    "df = df.replace(['?'],np.nan)\n",
    "colind = [0,17,19,21,23,25,27]\n",
    "for i in colind:\n",
    "    df.iloc[:,i] = pd.to_numeric(df.iloc[:,i],downcast = \"float\")\n",
    "names = df[\"Class\"].value_counts().index.values\n",
    "tmp=[]\n",
    "for i in range(0,len(names)):\n",
    "    if \"_\" in names[i]:\n",
    "        ind = names[i].index(\"_\")\n",
    "        tmp.append(names[i][0:ind]+\"\\n\"+names[i][ind+1:]) \n",
    "    else:\n",
    "        tmp.append(names[i]) \n",
    "    names[i]=tmp[i]\n",
    "x = np.flip(names)\n",
    "y = np.flip(df[\"Class\"].value_counts())\n",
    "width = 0.75\n",
    "fig, ax = plt.subplots()\n",
    "\n",
    "ind = np.arange(len(y))\n",
    "ax.barh(ind, y, width, color=\"darkgray\")\n",
    "ax.set_yticks(ind)\n",
    "ax.set_yticklabels(x, minor=False)\n",
    "plt.xlim(right=3900)\n",
    "plt.title('distribution of target: Class')\n",
    "plt.xlabel('no. of occurences') \n",
    "for i, v in enumerate(y):\n",
    "    ax.text(v + 10, i-0.05, str(v), color='darkblue', fontweight='bold')"
   ]
  },
  {
   "cell_type": "code",
   "execution_count": 30,
   "id": "cd812d52",
   "metadata": {},
   "outputs": [
    {
     "name": "stdout",
     "output_type": "stream",
     "text": [
      "<class 'pandas.core.frame.DataFrame'>\n",
      "RangeIndex: 3772 entries, 0 to 3771\n",
      "Data columns (total 30 columns):\n",
      " #   Column                     Non-Null Count  Dtype  \n",
      "---  ------                     --------------  -----  \n",
      " 0   age                        3771 non-null   float32\n",
      " 1   sex                        3622 non-null   object \n",
      " 2   on_thyroxine               3772 non-null   object \n",
      " 3   query_on_thyroxine         3772 non-null   object \n",
      " 4   on_antithyroid_medication  3772 non-null   object \n",
      " 5   sick                       3772 non-null   object \n",
      " 6   pregnant                   3772 non-null   object \n",
      " 7   thyroid_surgery            3772 non-null   object \n",
      " 8   I131_treatment             3772 non-null   object \n",
      " 9   query_hypothyroid          3772 non-null   object \n",
      " 10  query_hyperthyroid         3772 non-null   object \n",
      " 11  lithium                    3772 non-null   object \n",
      " 12  goitre                     3772 non-null   object \n",
      " 13  tumor                      3772 non-null   object \n",
      " 14  hypopituitary              3772 non-null   object \n",
      " 15  psych                      3772 non-null   object \n",
      " 16  TSH_measured               3772 non-null   object \n",
      " 17  TSH                        3403 non-null   float32\n",
      " 18  T3_measured                3772 non-null   object \n",
      " 19  T3                         3003 non-null   float32\n",
      " 20  TT4_measured               3772 non-null   object \n",
      " 21  TT4                        3541 non-null   float32\n",
      " 22  T4U_measured               3772 non-null   object \n",
      " 23  T4U                        3385 non-null   float32\n",
      " 24  FTI_measured               3772 non-null   object \n",
      " 25  FTI                        3387 non-null   float32\n",
      " 26  TBG_measured               3772 non-null   object \n",
      " 27  TBG                        0 non-null      float32\n",
      " 28  referral_source            3772 non-null   object \n",
      " 29  Class                      3772 non-null   object \n",
      "dtypes: float32(7), object(23)\n",
      "memory usage: 781.0+ KB\n"
     ]
    }
   ],
   "source": [
    "df.info()"
   ]
  },
  {
   "cell_type": "code",
   "execution_count": 32,
   "id": "c3e25bde",
   "metadata": {},
   "outputs": [
    {
     "data": {
      "text/plain": [
       "Text(0.5, 0.98, 'Histograms of different numeric attributes')"
      ]
     },
     "execution_count": 32,
     "metadata": {},
     "output_type": "execute_result"
    },
    {
     "data": {
      "image/png": "[encoded data removed]",
      "text/plain": [
       "<Figure size 432x288 with 6 Axes>"
      ]
     },
     "metadata": {
      "needs_background": "light"
     },
     "output_type": "display_data"
    }
   ],
   "source": [
    "colind = [0,17,19,21,23,25]\n",
    "df2 = df.replace(455.0,np.nan) # eliminating outlier in age\n",
    "namelist = list(df2.iloc[:,colind].columns)\n",
    "fig, axes = plt.subplots(2,3)\n",
    "fig.subplots_adjust(top=0.85,bottom = 0.1,wspace = 0.4,hspace = 0.5)\n",
    "ind = 0\n",
    "for i in range(2):\n",
    "    for j in range(3):\n",
    "        if ind < 6:\n",
    "            axes[i,j].hist(df2[namelist[ind]], bins=50)\n",
    "            axes[i,j].set_title(label = namelist[ind])\n",
    "        ind+=1\n",
    "fig.suptitle(\"Histograms of different numeric attributes\")"
   ]
  },
  {
   "cell_type": "markdown",
   "id": "5e65291c",
   "metadata": {},
   "source": [
    "### Hier lesen wir den Datensatz ein. Zudem erzeugen wir einen Training-Test-Split. Das Validation-Set erstellt TPOT mittels Cross-Validation immer selbst."
   ]
  },
  {
   "cell_type": "code",
   "execution_count": 33,
   "id": "0350d9d2",
   "metadata": {},
   "outputs": [],
   "source": [
    "dataset_name = \"hypothyroid\"  # Name der Output-Files\n",
    "filepath = \"datasets/hypothyroid/ht_cleaned.csv\" # Pfad der sauberen CSV\n",
    "target_name= \"Class\"    # Name der Zielvariable\n",
    "df = pd.read_csv(filepath) # Pfad\n",
    "try:\n",
    "    df = df.drop([\"Unnamed: 0\"],axis=1)\n",
    "except:\n",
    "    pass\n",
    "df[target_name], target_classes = pd.factorize(df[target_name]) # Klassifizierung: Faktorisierung der Zielvariable\n",
    "X = df[df.columns[1:]]\n",
    "y = df[df.columns[0]]\n",
    "\n",
    "X_train, X_test, y_train, y_test = train_test_split(X, y, train_size=0.75, test_size=0.25,stratify=y)"
   ]
  },
  {
   "cell_type": "markdown",
   "id": "9b01da08",
   "metadata": {},
   "source": [
    "### Im Config-Dictionary können alle möglichen Preprocessor und Modelle angegeben werden, die der Algorithmus ausprobieren soll. "
   ]
  },
  {
   "cell_type": "code",
   "execution_count": 10,
   "id": "d8657f22",
   "metadata": {},
   "outputs": [],
   "source": [
    "config_dict = {\n",
    "\n",
    "    # Classifiers\n",
    "    'sklearn.naive_bayes.MultinomialNB': {\n",
    "        'alpha': [1e-3, 1e-2, 1e-1, 1., 10., 100.],\n",
    "        'fit_prior': [True, False]\n",
    "    },\n",
    "\n",
    "    'sklearn.ensemble.RandomForestClassifier': {\n",
    "        'n_estimators': [100],\n",
    "        'criterion': [\"gini\", \"entropy\"],\n",
    "        'max_features': np.arange(0.05, 1.01, 0.05),\n",
    "        'min_samples_split': range(2, 21),\n",
    "        'min_samples_leaf':  range(1, 21),\n",
    "        'bootstrap': [True, False]\n",
    "    },\n",
    "    \n",
    "    'sklearn.neighbors.KNeighborsClassifier': {\n",
    "        'n_neighbors': range(1, 101)[::4],\n",
    "        'weights': [\"uniform\", \"distance\"],\n",
    "        'p': [1, 2]\n",
    "    },\n",
    "    \n",
    "    'sklearn.svm.LinearSVC': {\n",
    "        'penalty': [\"l1\", \"l2\"],\n",
    "        'loss': [\"hinge\", \"squared_hinge\"],\n",
    "        'dual': [True, False],\n",
    "        'tol': [1e-5, 1e-4, 1e-3, 1e-2, 1e-1],\n",
    "        'C': [1e-4, 1e-3, 1e-2, 1e-1, 0.5, 1., 5., 10., 15., 20., 25.]\n",
    "    },\n",
    "\n",
    "    'sklearn.linear_model.LogisticRegression': {\n",
    "        'penalty': [\"l1\", \"l2\"],\n",
    "        'C': [1e-4, 1e-3, 1e-2, 1e-1, 0.5, 1., 5., 10., 15., 20., 25.],\n",
    "        'dual': [False]\n",
    "    },\n",
    "    \n",
    "    # Different Kernels \n",
    "    'sklearn.kernel_approximation.Nystroem': {\n",
    "        'kernel': ['rbf', 'cosine', 'chi2', 'laplacian', 'polynomial', 'poly', 'linear', 'additive_chi2', 'sigmoid'],\n",
    "        'gamma': np.arange(0.0, 1.01, 0.05),\n",
    "        'n_components': range(1, 11)\n",
    "    },\n",
    "    \n",
    "    # Decomposition/Aggregation\n",
    "    'sklearn.decomposition.PCA': {\n",
    "        'svd_solver': ['randomized'],\n",
    "        'iterated_power': range(1, 11)\n",
    "    },\n",
    "    \n",
    "    'sklearn.cluster.FeatureAgglomeration': {\n",
    "        'linkage': ['ward', 'complete', 'average'],\n",
    "        'affinity': ['euclidean', 'l1', 'l2', 'manhattan', 'cosine']\n",
    "    },\n",
    "    \n",
    "    #Scaling\n",
    "    'sklearn.preprocessing.RobustScaler': {\n",
    "    },\n",
    "\n",
    "    'sklearn.preprocessing.StandardScaler': {\n",
    "    },\n",
    "    \n",
    "    'sklearn.preprocessing.MinMaxScaler': {\n",
    "    },\n",
    "\n",
    "    \n",
    "    # Selectors\n",
    "    'sklearn.feature_selection.VarianceThreshold': {\n",
    "        'threshold': [0.0001, 0.0005, 0.001, 0.005, 0.01, 0.05, 0.1, 0.2]\n",
    "    },\n",
    "\n",
    "    'sklearn.feature_selection.RFE': {\n",
    "        'step': np.arange(0.05, 1.01, 0.05),\n",
    "        'estimator': {\n",
    "            'sklearn.ensemble.ExtraTreesClassifier': {\n",
    "                'n_estimators': [100],\n",
    "                'criterion': ['gini', 'entropy'],\n",
    "                'max_features': np.arange(0.05, 1.01, 0.05)\n",
    "            }\n",
    "        }\n",
    "    },\n",
    "\n",
    "    'sklearn.feature_selection.SelectFromModel': {\n",
    "        'threshold': np.arange(0, 1.01, 0.05),\n",
    "        'estimator': {\n",
    "            'sklearn.ensemble.ExtraTreesClassifier': {\n",
    "                'n_estimators': [100],\n",
    "                'criterion': ['gini', 'entropy'],\n",
    "                'max_features': np.arange(0.05, 1.01, 0.05)\n",
    "            }\n",
    "        }\n",
    "    }\n",
    "}\n"
   ]
  },
  {
   "cell_type": "markdown",
   "id": "f56f7216",
   "metadata": {},
   "source": [
    "### Hier wird kurz zusammengebastelt, was wir gleich für unseren Optimierer brauchen. Dabei sind Scoring-Functions, CV-Methoden und die Populationsgröße."
   ]
  },
  {
   "cell_type": "code",
   "execution_count": 11,
   "id": "49f13c09",
   "metadata": {},
   "outputs": [],
   "source": [
    "def customPrecision(y_true,y_pred):\n",
    "    return precision_score(y_true,y_pred,average=\"micro\")\n",
    "def customRecall(y_true,y_pred):\n",
    "    return recall_score(y_true,y_pred,average=\"micro\")"
   ]
  },
  {
   "cell_type": "code",
   "execution_count": 12,
   "id": "76522449",
   "metadata": {},
   "outputs": [],
   "source": [
    "max_time_mins = 30   # Anzahl der Minuten, die der Algorithmus laufen soll\n",
    "population_size = 100 # Populationsgröße\n",
    "scoring = \"accuracy\" # Wir optimieren das Modell anhand der Accuracy.\n",
    "cv = StratifiedKFold(n_splits=5, random_state=123, shuffle=True) #StratifiedKFold, um eine realistische Klassenverteilung zu simulieren.\n",
    "random_state=123\n",
    "scoring_methods = {\"accuracy\":'accuracy',\"precision\":make_scorer(customPrecision),\"recall\":make_scorer(customRecall)}"
   ]
  },
  {
   "cell_type": "markdown",
   "id": "c04bd93f",
   "metadata": {},
   "source": [
    "### Hier beginnt die Magie. Wir setzen erstmal unseren PipelineOptimizer auf mit allen Parametern, die wir gut finden..."
   ]
  },
  {
   "cell_type": "code",
   "execution_count": 13,
   "id": "7662e07a",
   "metadata": {},
   "outputs": [],
   "source": [
    "pipeline_optimizer = TPOTClassifier(scoring=scoring, # Klassifizierungsaufgabe\n",
    "        \t                        population_size=population_size, # Populationsgröße\n",
    "                                    max_time_mins=max_time_mins,  # Maximale Anzahl von Minuten\n",
    "                                    random_state=random_state,\n",
    "#                                     config_dict=config_dict, Das config-Dict könnte man hier eingeben. Als Default sind schon viele tolle Einstellungen dabei.     \n",
    "                                    warm_start=False,      \n",
    "                                    use_dask=True,         # Effizientere Optimierung (Parallel)\n",
    "                                    cv = cv,    # 5-Fold CV with stratification\n",
    "                                    periodic_checkpoint_folder=None, # Progress-Tracking ist möglich\n",
    "                                    verbosity = 2) # Progress-Bar in Konsole"
   ]
  },
  {
   "cell_type": "markdown",
   "id": "55340e95",
   "metadata": {},
   "source": [
    "### ... und trainieren ihn so lange, wie wir vorher eingestellt haben."
   ]
  },
  {
   "cell_type": "code",
   "execution_count": 14,
   "id": "e2c3de8b",
   "metadata": {},
   "outputs": [
    {
     "name": "stdout",
     "output_type": "stream",
     "text": [
      "Imputing missing values in feature set\n"
     ]
    },
    {
     "data": {
      "application/vnd.jupyter.widget-view+json": {
       "model_id": "da1a97835f694c89917ab69cd354bba4",
       "version_major": 2,
       "version_minor": 0
      },
      "text/plain": [
       "Optimization Progress:   0%|          | 0/100 [00:00<?, ?pipeline/s]"
      ]
     },
     "metadata": {},
     "output_type": "display_data"
    },
    {
     "name": "stdout",
     "output_type": "stream",
     "text": [
      "\n",
      "Generation 1 - Current best internal CV score: 0.9939904312204885\n",
      "\n",
      "Generation 2 - Current best internal CV score: 0.9939904312204885\n",
      "\n",
      "Generation 3 - Current best internal CV score: 0.9961111979736701\n",
      "\n",
      "Generation 4 - Current best internal CV score: 0.9961111979736701\n",
      "\n",
      "Generation 5 - Current best internal CV score: 0.9961111979736701\n",
      "\n",
      "Generation 6 - Current best internal CV score: 0.9961111979736701\n",
      "\n",
      "Generation 7 - Current best internal CV score: 0.9964651802745552\n",
      "\n",
      "Generation 8 - Current best internal CV score: 0.9968185371650146\n",
      "\n",
      "Generation 9 - Current best internal CV score: 0.9968185371650146\n",
      "\n",
      "Generation 10 - Current best internal CV score: 0.9971725194658994\n",
      "\n",
      "Best pipeline: XGBClassifier(BernoulliNB(input_matrix, alpha=100.0, fit_prior=True), learning_rate=0.5, max_depth=2, min_child_weight=1, n_estimators=100, n_jobs=1, subsample=0.8, verbosity=0)\n"
     ]
    },
    {
     "data": {
      "text/plain": [
       "TPOTClassifier(cv=StratifiedKFold(n_splits=5, random_state=123, shuffle=True),\n",
       "               max_time_mins=30, random_state=123, scoring='accuracy',\n",
       "               use_dask=True, verbosity=2)"
      ]
     },
     "execution_count": 14,
     "metadata": {},
     "output_type": "execute_result"
    }
   ],
   "source": [
    "pipeline_optimizer.fit(X_train,y_train)"
   ]
  },
  {
   "cell_type": "markdown",
   "id": "9831d37e",
   "metadata": {},
   "source": [
    "### Im Anschluss testen wir wie gut wir waren und was unsere beste Pipeline ist."
   ]
  },
  {
   "cell_type": "code",
   "execution_count": 22,
   "id": "c1a81882",
   "metadata": {},
   "outputs": [
    {
     "data": {
      "text/plain": [
       "{'classes': array([0, 1, 2, 3], dtype=int64),\n",
       " 'best_pipeline': Pipeline(steps=[('stackingestimator',\n",
       "                  StackingEstimator(estimator=BernoulliNB(alpha=100.0))),\n",
       "                 ('xgbclassifier',\n",
       "                  XGBClassifier(base_score=0.5, booster='gbtree',\n",
       "                                colsample_bylevel=1, colsample_bynode=1,\n",
       "                                colsample_bytree=1, gamma=0, gpu_id=-1,\n",
       "                                importance_type='gain',\n",
       "                                interaction_constraints='', learning_rate=0.5,\n",
       "                                max_delta_step=0, max_depth=2,\n",
       "                                min_child_weight=1, missing=nan,\n",
       "                                monotone_constraints='()', n_estimators=100,\n",
       "                                n_jobs=1, num_parallel_tree=1,\n",
       "                                objective='multi:softprob', random_state=123,\n",
       "                                reg_alpha=0, reg_lambda=1, scale_pos_weight=None,\n",
       "                                subsample=0.8, tree_method='exact',\n",
       "                                validate_parameters=1, verbosity=0))]),\n",
       " 'cv_accuracy_mean': 0.9971725194658994,\n",
       " 'cv_accuracy_var': 1.99645307861514e-06,\n",
       " 'cv_precision_mean': 0.9971725194658994,\n",
       " 'cv_precision_var': 1.99645307861514e-06,\n",
       " 'cv_recall_mean': 0.9971725194658994,\n",
       " 'cv_recall_var': 1.99645307861514e-06,\n",
       " 'accuracy': 0.9893955461293743,\n",
       " 'precision': 0.9893955461293743,\n",
       " 'recall': 0.9893955461293743,\n",
       " 'conf_matrix': array([[866,   4,   0,   0],\n",
       "        [  1,  45,   2,   0],\n",
       "        [  0,   2,  22,   0],\n",
       "        [  1,   0,   0,   0]], dtype=int64),\n",
       " 'precision_per_class': [0.9976958525345622,\n",
       "  0.8823529411764706,\n",
       "  0.9166666666666666,\n",
       "  0],\n",
       " 'recall_per_class': [0.9954022988505747, 0.9375, 0.9166666666666666, 0.0]}"
      ]
     },
     "execution_count": 22,
     "metadata": {},
     "output_type": "execute_result"
    }
   ],
   "source": [
    "best_pipeline = pipeline_optimizer.fitted_pipeline_\n",
    "imputed_pipeline = Pipeline([(\"imputer\",SimpleImputer(strategy=\"median\")),(\"best\",best_pipeline)])\n",
    "scores_cv=cross_validate(estimator=imputed_pipeline, X=X_train, y=y_train, cv=cv, scoring = scoring_methods)\n",
    "imputed_pipeline.fit(X_train,y_train)\n",
    "preds=imputed_pipeline.predict(X_test)\n",
    "scores_test = dict()\n",
    "scores_test[\"classes\"] = best_pipeline.classes_\n",
    "scores_test[\"best_pipeline\"] = best_pipeline\n",
    "scores_test[\"cv_accuracy_mean\"] = np.mean(scores_cv[\"test_accuracy\"])\n",
    "scores_test[\"cv_accuracy_var\"] = np.var(scores_cv[\"test_accuracy\"])\n",
    "scores_test[\"cv_precision_mean\"] = np.mean(scores_cv[\"test_precision\"])\n",
    "scores_test[\"cv_precision_var\"] = np.var(scores_cv[\"test_precision\"])\n",
    "scores_test[\"cv_recall_mean\"] = np.mean(scores_cv[\"test_recall\"])\n",
    "scores_test[\"cv_recall_var\"] = np.var(scores_cv[\"test_recall\"])\n",
    "scores_test[\"accuracy\"] = accuracy_score(y_test,preds)\n",
    "scores_test[\"precision\"] = precision_score(y_test,preds,average='micro')\n",
    "scores_test[\"recall\"] = recall_score(y_test,preds,average='micro')\n",
    "scores_test[\"conf_matrix\"] = confusion_matrix(y_test,preds)\n",
    "scores_test[\"precision_per_class\"] = precisionPerClass(scores_test[\"conf_matrix\"])\n",
    "scores_test[\"recall_per_class\"] = recallPerClass(scores_test[\"conf_matrix\"])\n",
    "scores_test"
   ]
  },
  {
   "cell_type": "markdown",
   "id": "73dcb6d8",
   "metadata": {},
   "source": [
    "### Statistik über den Optimierungverlauf"
   ]
  },
  {
   "cell_type": "code",
   "execution_count": 25,
   "id": "d19122a3",
   "metadata": {},
   "outputs": [],
   "source": [
    "testedIndividuals=pipeline_optimizer.evaluated_individuals_\n",
    "generationMeanDict=dict() \n",
    "testedIndividuals=pipeline_optimizer.evaluated_individuals_\n",
    "for key in testedIndividuals:\n",
    "    currentGen = testedIndividuals[key][\"generation\"]\n",
    "    if generationMeanDict.get(currentGen) is not None:\n",
    "        generationMeanDict[currentGen].append(testedIndividuals[key][\"internal_cv_score\"])\n",
    "    else:\n",
    "        generationMeanDict[currentGen] = [testedIndividuals[key][\"internal_cv_score\"]]\n",
    "progressDict=dict()\n",
    "for generation in generationMeanDict:\n",
    "    progressDict[generation]=dict()\n",
    "    progressDict[generation][\"mean\"]=np.mean([x for x in generationMeanDict[generation] if (x <=1 and x>=0)])\n",
    "    progressDict[generation][\"variance\"]=np.var([x for x in generationMeanDict[generation] if (x <=1 and x>=0)])"
   ]
  },
  {
   "cell_type": "markdown",
   "id": "8afc5396",
   "metadata": {},
   "source": [
    "### Grafische Darstellung des Optimierungsverlaufs"
   ]
  },
  {
   "cell_type": "code",
   "execution_count": 26,
   "id": "1a9cdcf6",
   "metadata": {},
   "outputs": [
    {
     "data": {
      "image/png": "[encoded data removed]",
      "text/plain": [
       "<Figure size 432x288 with 2 Axes>"
      ]
     },
     "metadata": {
      "needs_background": "light"
     },
     "output_type": "display_data"
    }
   ],
   "source": [
    "generations=[]\n",
    "means=[]\n",
    "variances=[]\n",
    "for key in progressDict.keys():\n",
    "    generations.append(key)\n",
    "    means.append(progressDict[key][\"mean\"])\n",
    "    variances.append(progressDict[key][\"variance\"])\n",
    "fig, ax = plt.subplots(1,2)\n",
    "plt.subplots_adjust(right=2,top=1,hspace=0.4,wspace=0.17)\n",
    "\n",
    "ax[0].plot(generations,means,\"-b\")\n",
    "ax[0].set_title(\"mean \"+scoring+\" in generation\")\n",
    "ax[0].set_xlabel(\"generation\",fontsize=12)\n",
    "ax[0].set_ylabel(\"mean \"+scoring,fontsize=12)\n",
    "ax[0].grid(b=None, which='major', axis='y')\n",
    "\n",
    "ax[1].plot(generations,variances,\"-r\")\n",
    "ax[1].set_title(\"variance of \"+scoring+\" in generation\")\n",
    "ax[1].set_xlabel(\"generation\",fontsize=12)\n",
    "ax[1].set_ylabel(\"variance of \"+scoring,fontsize=12)\n",
    "ax[1].grid(b=None, which='major', axis='y')"
   ]
  }
 ],
 "metadata": {
  "kernelspec": {
   "display_name": "Python 3",
   "language": "python",
   "name": "python3"
  },
  "language_info": {
   "codemirror_mode": {
    "name": "ipython",
    "version": 3
   },
   "file_extension": ".py",
   "mimetype": "text/x-python",
   "name": "python",
   "nbconvert_exporter": "python",
   "pygments_lexer": "ipython3",
   "version": "3.7.9"
  }
 },
 "nbformat": 4,
 "nbformat_minor": 5
}
