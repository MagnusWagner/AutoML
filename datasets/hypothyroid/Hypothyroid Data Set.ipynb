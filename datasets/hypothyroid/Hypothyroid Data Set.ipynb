{
 "cells": [
  {
   "cell_type": "code",
   "execution_count": 1,
   "metadata": {},
   "outputs": [],
   "source": [
    "import pandas as pd\n",
    "import numpy as np\n",
    "import matplotlib.pyplot as plt\n",
    "import os\n",
    "%matplotlib inline"
   ]
  },
  {
   "cell_type": "code",
   "execution_count": 2,
   "metadata": {},
   "outputs": [],
   "source": [
    "df = pd.read_csv(\"hypothyroid.csv\")\n",
    "df = df.replace(['?'],np.nan)\n",
    "colind = [0,17,19,21,23,25,27]\n",
    "for i in colind:\n",
    "    df.iloc[:,i] = pd.to_numeric(df.iloc[:,i],downcast = \"float\")\n",
    "names = df[\"Class\"].value_counts().index.values\n",
    "tmp=[]\n",
    "for i in range(0,len(names)):\n",
    "    if \"_\" in names[i]:\n",
    "        ind = names[i].index(\"_\")\n",
    "        tmp.append(names[i][0:ind]+\"\\n\"+names[i][ind+1:]) \n",
    "    else:\n",
    "        tmp.append(names[i]) \n",
    "    names[i]=tmp[i]"
   ]
  },
  {
   "cell_type": "code",
   "execution_count": 3,
   "metadata": {},
   "outputs": [
    {
     "data": {
      "image/png": "[encoded data removed]",
      "text/plain": [
       "<Figure size 432x288 with 1 Axes>"
      ]
     },
     "metadata": {
      "needs_background": "light"
     },
     "output_type": "display_data"
    }
   ],
   "source": [
    "x = np.flip(names)\n",
    "y = np.flip(df[\"Class\"].value_counts())\n",
    "width = 0.75\n",
    "# plt.rcParams.update({'font.size': 8})\n",
    "fig, ax = plt.subplots()\n",
    "\n",
    "ind = np.arange(len(y))\n",
    "ax.barh(ind, y, width, color=\"darkgray\")\n",
    "ax.set_yticks(ind)\n",
    "ax.set_yticklabels(x, minor=False)\n",
    "plt.xlim(right=3900)\n",
    "plt.title('distribution of target: Class')\n",
    "plt.xlabel('no. of occurences')\n",
    "# plt.ylabel('y')      \n",
    "for i, v in enumerate(y):\n",
    "    ax.text(v + 10, i-0.05, str(v), color='darkblue', fontweight='bold')"
   ]
  },
  {
   "cell_type": "code",
   "execution_count": 12,
   "metadata": {
    "scrolled": true
   },
   "outputs": [
    {
     "name": "stdout",
     "output_type": "stream",
     "text": [
      "<class 'pandas.core.frame.DataFrame'>\n",
      "RangeIndex: 3772 entries, 0 to 3771\n",
      "Data columns (total 30 columns):\n",
      " #   Column                     Non-Null Count  Dtype  \n",
      "---  ------                     --------------  -----  \n",
      " 0   age                        3771 non-null   float32\n",
      " 1   sex                        3622 non-null   object \n",
      " 2   on_thyroxine               3772 non-null   object \n",
      " 3   query_on_thyroxine         3772 non-null   object \n",
      " 4   on_antithyroid_medication  3772 non-null   object \n",
      " 5   sick                       3772 non-null   object \n",
      " 6   pregnant                   3772 non-null   object \n",
      " 7   thyroid_surgery            3772 non-null   object \n",
      " 8   I131_treatment             3772 non-null   object \n",
      " 9   query_hypothyroid          3772 non-null   object \n",
      " 10  query_hyperthyroid         3772 non-null   object \n",
      " 11  lithium                    3772 non-null   object \n",
      " 12  goitre                     3772 non-null   object \n",
      " 13  tumor                      3772 non-null   object \n",
      " 14  hypopituitary              3772 non-null   object \n",
      " 15  psych                      3772 non-null   object \n",
      " 16  TSH_measured               3772 non-null   object \n",
      " 17  TSH                        3403 non-null   float32\n",
      " 18  T3_measured                3772 non-null   object \n",
      " 19  T3                         3003 non-null   float32\n",
      " 20  TT4_measured               3772 non-null   object \n",
      " 21  TT4                        3541 non-null   float32\n",
      " 22  T4U_measured               3772 non-null   object \n",
      " 23  T4U                        3385 non-null   float32\n",
      " 24  FTI_measured               3772 non-null   object \n",
      " 25  FTI                        3387 non-null   float32\n",
      " 26  TBG_measured               3772 non-null   object \n",
      " 27  TBG                        0 non-null      float32\n",
      " 28  referral_source            3772 non-null   object \n",
      " 29  Class                      3772 non-null   object \n",
      "dtypes: float32(7), object(23)\n",
      "memory usage: 781.0+ KB\n"
     ]
    }
   ],
   "source": [
    "df.info()"
   ]
  },
  {
   "cell_type": "code",
   "execution_count": 9,
   "metadata": {},
   "outputs": [
    {
     "data": {
      "text/plain": [
       "Text(0.5, 1.0, 'Boxplots of different numeric attributes')"
      ]
     },
     "execution_count": 9,
     "metadata": {},
     "output_type": "execute_result"
    },
    {
     "data": {
      "image/png": "[encoded data removed]",
      "text/plain": [
       "<Figure size 360x288 with 1 Axes>"
      ]
     },
     "metadata": {
      "needs_background": "light"
     },
     "output_type": "display_data"
    }
   ],
   "source": [
    "colind = [0,17,21,25,27]\n",
    "namelist = list(df.iloc[:,colind].columns)\n",
    "plt.figure(figsize=(5,4))\n",
    "box = df.boxplot(namelist,whis=1.5,flierprops=dict(marker='.', markersize = 3))\n",
    "plt.title(label = \"Boxplots of different numeric attributes\")"
   ]
  },
  {
   "cell_type": "code",
   "execution_count": 10,
   "metadata": {},
   "outputs": [
    {
     "data": {
      "text/plain": [
       "Text(0.5, 1.0, 'Boxplot of T3 & T4U levels')"
      ]
     },
     "execution_count": 10,
     "metadata": {},
     "output_type": "execute_result"
    },
    {
     "data": {
      "image/png": "[encoded data removed]",
      "text/plain": [
       "<Figure size 216x288 with 1 Axes>"
      ]
     },
     "metadata": {
      "needs_background": "light"
     },
     "output_type": "display_data"
    }
   ],
   "source": [
    "colind2 = [19,23]\n",
    "namelist = list(df.iloc[:,colind2].columns)\n",
    "namelist\n",
    "plt.figure(figsize=(3,4))\n",
    "box = df.boxplot(namelist,whis=1.5,flierprops=dict(marker='.', markersize = 3))\n",
    "plt.title(label = \"Boxplot of T3 & T4U levels\")"
   ]
  },
  {
   "cell_type": "code",
   "execution_count": 11,
   "metadata": {},
   "outputs": [
    {
     "data": {
      "text/plain": [
       "Text(0.5, 0.98, 'Histograms of different numeric attributes')"
      ]
     },
     "execution_count": 11,
     "metadata": {},
     "output_type": "execute_result"
    },
    {
     "data": {
      "image/png": "[encoded data removed]",
      "text/plain": [
       "<Figure size 432x288 with 6 Axes>"
      ]
     },
     "metadata": {
      "needs_background": "light"
     },
     "output_type": "display_data"
    }
   ],
   "source": [
    "colind = [0,17,19,21,23,25]\n",
    "df2 = df.replace(455.0,np.nan) # eliminating outlier in age\n",
    "namelist = list(df2.iloc[:,colind].columns)\n",
    "fig, axes = plt.subplots(2,3)\n",
    "fig.subplots_adjust(top=0.85,bottom = 0.1,wspace = 0.4,hspace = 0.5)\n",
    "ind = 0\n",
    "for i in range(2):\n",
    "    for j in range(3):\n",
    "        if ind < 6:\n",
    "            axes[i,j].hist(df2[namelist[ind]], bins=50)\n",
    "            axes[i,j].set_title(label = namelist[ind])\n",
    "        ind+=1\n",
    "fig.suptitle(\"Histograms of different numeric attributes\")"
   ]
  }
 ],
 "metadata": {
  "kernelspec": {
   "display_name": "Python 3",
   "language": "python",
   "name": "python3"
  },
  "language_info": {
   "codemirror_mode": {
    "name": "ipython",
    "version": 3
   },
   "file_extension": ".py",
   "mimetype": "text/x-python",
   "name": "python",
   "nbconvert_exporter": "python",
   "pygments_lexer": "ipython3",
   "version": "3.7.9"
  }
 },
 "nbformat": 4,
 "nbformat_minor": 4
}
